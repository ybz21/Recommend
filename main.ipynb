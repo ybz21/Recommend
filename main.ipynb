{
 "cells": [
  {
   "cell_type": "code",
   "execution_count": 1,
   "id": "initial_id",
   "metadata": {
    "collapsed": true,
    "ExecuteTime": {
     "end_time": "2024-09-14T09:21:21.839272Z",
     "start_time": "2024-09-14T09:21:19.807922Z"
    }
   },
   "outputs": [
    {
     "name": "stdout",
     "output_type": "stream",
     "text": [
      "traceId                0\n",
      "sceneId                0\n",
      "eid                    0\n",
      "itemId                 0\n",
      "actionTime             0\n",
      "actionValue            0\n",
      "age               135672\n",
      "gender            135672\n",
      "categoryLevel1         0\n",
      "categoryLevel2     80924\n",
      "duration            3873\n",
      "publisherName          0\n",
      "publishTime            0\n",
      "source             11204\n",
      "collectionID      159662\n",
      "dtype: int64\n",
      "====columns: Index(['traceId', 'sceneId', 'eid', 'itemId', 'actionTime', 'actionValue',\n",
      "       'age', 'gender', 'categoryLevel1', 'categoryLevel2', 'duration',\n",
      "       'publisherName', 'publishTime', 'source', 'collectionID'],\n",
      "      dtype='object')\n",
      "traceId            object\n",
      "sceneId             int64\n",
      "eid                 int64\n",
      "itemId              int64\n",
      "actionTime          int64\n",
      "actionValue         int64\n",
      "age               float64\n",
      "gender             object\n",
      "categoryLevel1     object\n",
      "categoryLevel2     object\n",
      "duration          float64\n",
      "publisherName      object\n",
      "publishTime         int64\n",
      "source             object\n",
      "collectionID      float64\n",
      "dtype: object\n"
     ]
    }
   ],
   "source": [
    "import json\n",
    "\n",
    "import pandas as pd\n",
    "from sklearn.model_selection import train_test_split\n",
    "from sklearn.impute import SimpleImputer\n",
    "from sklearn.preprocessing import StandardScaler, OneHotEncoder, FunctionTransformer\n",
    "from sklearn.compose import ColumnTransformer\n",
    "from sklearn.pipeline import Pipeline\n",
    "import numpy as np\n",
    "\n",
    "from sklearn.metrics import classification_report, roc_auc_score\n",
    "\n",
    "# 假设df是你的DataFrame\n",
    "# 首先，导入数据\n",
    "df = pd.read_csv('./data/w_0812_0827.train.csv')  # 如果数据在CSV文件中\n",
    "\n",
    "# 检查缺失值\n",
    "print(df.isnull().sum())\n",
    "print(f'====columns: {df.columns}')\n",
    "print(df.dtypes)"
   ]
  },
  {
   "cell_type": "code",
   "execution_count": 2,
   "outputs": [],
   "source": [
    "# 将观看时长转换为二进制变量\n",
    "df['target'] = (df['actionValue'] > 10).astype(int)\n",
    "\n",
    "# 定义特征和目标变量\n",
    "features = df.drop(columns=['actionValue', 'target'])\n",
    "target = df['target']\n",
    "\n",
    "from feature import  process_time_features,create_cross_features\n",
    "# def process_time_features(df):\n",
    "#     df['actionTime'] = pd.to_datetime(df['actionTime'])\n",
    "#     df['publishTime'] = pd.to_datetime(df['publishTime'])\n",
    "#     df['action_hour'] = df['actionTime'].dt.hour\n",
    "#     df['action_weekday'] = df['actionTime'].dt.weekday\n",
    "#     df['publish_hour'] = df['publishTime'].dt.hour\n",
    "#     df['publish_weekday'] = df['publishTime'].dt.weekday\n",
    "#     return df.drop(['actionTime', 'publishTime'], axis=1)\n",
    "\n",
    "\n",
    "numeric_features = [\n",
    "    'duration',\n",
    "    'action_hour',\n",
    "    'action_weekday',\n",
    "    'publish_hour',\n",
    "    'publish_weekday'\n",
    "]\n",
    "\n",
    "# 定义分类和数值特征\n",
    "categorical_features = [\n",
    "    'gender',\n",
    "    'categoryLevel1',\n",
    "    'categoryLevel2',\n",
    "    'publisherName',\n",
    "    'source',\n",
    "    'collectionID'\n",
    "]\n",
    "\n",
    "# 定义交叉特征\n",
    "cross_features = [\n",
    "    ('gender_categoryLevel1', ['gender', 'categoryLevel1']),\n",
    "    ('publisherName_source', ['publisherName', 'source'])\n",
    "]\n",
    "\n",
    "# 定义预处理器\n",
    "preprocessor = ColumnTransformer(\n",
    "    transformers=[\n",
    "        ('num', SimpleImputer(strategy='median'), numeric_features),\n",
    "        ('cat', OneHotEncoder(handle_unknown='ignore'), categorical_features + [f[0] for f in cross_features])\n",
    "    ])\n",
    "\n",
    "# 使用LightGBM\n",
    "import lightgbm as lgb\n",
    "\n",
    "pipeline = Pipeline(steps=[\n",
    "    ('time_processor', FunctionTransformer(process_time_features, validate=False)),\n",
    "    ('cross_feature_creator',\n",
    "     FunctionTransformer(create_cross_features, kw_args={'cross_features': cross_features}, validate=False)),\n",
    "    # ('age_binning', FunctionTransformer(bin_age, validate=False)),\n",
    "    ('preprocessor', preprocessor),\n",
    "    ('classifier', lgb.LGBMClassifier())\n",
    "])\n"
   ],
   "metadata": {
    "collapsed": false,
    "ExecuteTime": {
     "end_time": "2024-09-14T09:21:23.471611Z",
     "start_time": "2024-09-14T09:21:22.394481Z"
    }
   },
   "id": "2c3b0452ac33dbdd"
  },
  {
   "cell_type": "code",
   "execution_count": 3,
   "outputs": [
    {
     "name": "stdout",
     "output_type": "stream",
     "text": [
      "Index(['traceId', 'sceneId', 'eid', 'itemId', 'actionTime', 'age', 'gender',\n",
      "       'categoryLevel1', 'categoryLevel2', 'duration', 'publisherName',\n",
      "       'publishTime', 'source', 'collectionID'],\n",
      "      dtype='object')\n"
     ]
    }
   ],
   "source": [
    "# 准备训练和测试数据\n",
    "X = df.drop(['actionValue', 'target'], axis=1)\n",
    "print(X.columns)\n",
    "y = df['target']\n",
    "\n",
    "X_train, X_test, y_train, y_test = train_test_split(X, y, test_size=0.2, random_state=42)"
   ],
   "metadata": {
    "collapsed": false,
    "ExecuteTime": {
     "end_time": "2024-09-14T09:21:24.439749Z",
     "start_time": "2024-09-14T09:21:24.381605Z"
    }
   },
   "id": "59bd0f003e27ffd2"
  },
  {
   "cell_type": "code",
   "execution_count": 4,
   "outputs": [
    {
     "name": "stdout",
     "output_type": "stream",
     "text": [
      "[LightGBM] [Info] Number of positive: 8682, number of negative: 127317\n",
      "[LightGBM] [Info] Auto-choosing row-wise multi-threading, the overhead of testing was 0.010002 seconds.\n",
      "You can set `force_row_wise=true` to remove the overhead.\n",
      "And if memory is not enough, you can set `force_col_wise=true`.\n",
      "[LightGBM] [Info] Total Bins 1171\n",
      "[LightGBM] [Info] Number of data points in the train set: 135999, number of used features: 470\n",
      "[LightGBM] [Info] [binary:BoostFromScore]: pavg=0.063839 -> initscore=-2.685428\n",
      "[LightGBM] [Info] Start training from score -2.685428\n"
     ]
    },
    {
     "data": {
      "text/plain": "Pipeline(steps=[('time_processor',\n                 FunctionTransformer(func=<function process_time_features at 0x12c06c790>)),\n                ('cross_feature_creator',\n                 FunctionTransformer(func=<function create_cross_features at 0x10952fbe0>,\n                                     kw_args={'cross_features': [('gender_categoryLevel1',\n                                                                  ['gender',\n                                                                   'categoryLevel1']),\n                                                                 ('publisherName_source',\n                                                                  ['publisherName',\n                                                                   'source'])]})),\n                ('preprocess...\n                 ColumnTransformer(transformers=[('num',\n                                                  SimpleImputer(strategy='median'),\n                                                  ['duration', 'action_hour',\n                                                   'action_weekday',\n                                                   'publish_hour',\n                                                   'publish_weekday']),\n                                                 ('cat',\n                                                  OneHotEncoder(handle_unknown='ignore'),\n                                                  ['gender', 'categoryLevel1',\n                                                   'categoryLevel2',\n                                                   'publisherName', 'source',\n                                                   'collectionID',\n                                                   'gender_categoryLevel1',\n                                                   'publisherName_source'])])),\n                ('classifier', LGBMClassifier())])",
      "text/html": "<style>#sk-container-id-1 {color: black;}#sk-container-id-1 pre{padding: 0;}#sk-container-id-1 div.sk-toggleable {background-color: white;}#sk-container-id-1 label.sk-toggleable__label {cursor: pointer;display: block;width: 100%;margin-bottom: 0;padding: 0.3em;box-sizing: border-box;text-align: center;}#sk-container-id-1 label.sk-toggleable__label-arrow:before {content: \"▸\";float: left;margin-right: 0.25em;color: #696969;}#sk-container-id-1 label.sk-toggleable__label-arrow:hover:before {color: black;}#sk-container-id-1 div.sk-estimator:hover label.sk-toggleable__label-arrow:before {color: black;}#sk-container-id-1 div.sk-toggleable__content {max-height: 0;max-width: 0;overflow: hidden;text-align: left;background-color: #f0f8ff;}#sk-container-id-1 div.sk-toggleable__content pre {margin: 0.2em;color: black;border-radius: 0.25em;background-color: #f0f8ff;}#sk-container-id-1 input.sk-toggleable__control:checked~div.sk-toggleable__content {max-height: 200px;max-width: 100%;overflow: auto;}#sk-container-id-1 input.sk-toggleable__control:checked~label.sk-toggleable__label-arrow:before {content: \"▾\";}#sk-container-id-1 div.sk-estimator input.sk-toggleable__control:checked~label.sk-toggleable__label {background-color: #d4ebff;}#sk-container-id-1 div.sk-label input.sk-toggleable__control:checked~label.sk-toggleable__label {background-color: #d4ebff;}#sk-container-id-1 input.sk-hidden--visually {border: 0;clip: rect(1px 1px 1px 1px);clip: rect(1px, 1px, 1px, 1px);height: 1px;margin: -1px;overflow: hidden;padding: 0;position: absolute;width: 1px;}#sk-container-id-1 div.sk-estimator {font-family: monospace;background-color: #f0f8ff;border: 1px dotted black;border-radius: 0.25em;box-sizing: border-box;margin-bottom: 0.5em;}#sk-container-id-1 div.sk-estimator:hover {background-color: #d4ebff;}#sk-container-id-1 div.sk-parallel-item::after {content: \"\";width: 100%;border-bottom: 1px solid gray;flex-grow: 1;}#sk-container-id-1 div.sk-label:hover label.sk-toggleable__label {background-color: #d4ebff;}#sk-container-id-1 div.sk-serial::before {content: \"\";position: absolute;border-left: 1px solid gray;box-sizing: border-box;top: 0;bottom: 0;left: 50%;z-index: 0;}#sk-container-id-1 div.sk-serial {display: flex;flex-direction: column;align-items: center;background-color: white;padding-right: 0.2em;padding-left: 0.2em;position: relative;}#sk-container-id-1 div.sk-item {position: relative;z-index: 1;}#sk-container-id-1 div.sk-parallel {display: flex;align-items: stretch;justify-content: center;background-color: white;position: relative;}#sk-container-id-1 div.sk-item::before, #sk-container-id-1 div.sk-parallel-item::before {content: \"\";position: absolute;border-left: 1px solid gray;box-sizing: border-box;top: 0;bottom: 0;left: 50%;z-index: -1;}#sk-container-id-1 div.sk-parallel-item {display: flex;flex-direction: column;z-index: 1;position: relative;background-color: white;}#sk-container-id-1 div.sk-parallel-item:first-child::after {align-self: flex-end;width: 50%;}#sk-container-id-1 div.sk-parallel-item:last-child::after {align-self: flex-start;width: 50%;}#sk-container-id-1 div.sk-parallel-item:only-child::after {width: 0;}#sk-container-id-1 div.sk-dashed-wrapped {border: 1px dashed gray;margin: 0 0.4em 0.5em 0.4em;box-sizing: border-box;padding-bottom: 0.4em;background-color: white;}#sk-container-id-1 div.sk-label label {font-family: monospace;font-weight: bold;display: inline-block;line-height: 1.2em;}#sk-container-id-1 div.sk-label-container {text-align: center;}#sk-container-id-1 div.sk-container {/* jupyter's `normalize.less` sets `[hidden] { display: none; }` but bootstrap.min.css set `[hidden] { display: none !important; }` so we also need the `!important` here to be able to override the default hidden behavior on the sphinx rendered scikit-learn.org. See: https://github.com/scikit-learn/scikit-learn/issues/21755 */display: inline-block !important;position: relative;}#sk-container-id-1 div.sk-text-repr-fallback {display: none;}</style><div id=\"sk-container-id-1\" class=\"sk-top-container\"><div class=\"sk-text-repr-fallback\"><pre>Pipeline(steps=[(&#x27;time_processor&#x27;,\n                 FunctionTransformer(func=&lt;function process_time_features at 0x12c06c790&gt;)),\n                (&#x27;cross_feature_creator&#x27;,\n                 FunctionTransformer(func=&lt;function create_cross_features at 0x10952fbe0&gt;,\n                                     kw_args={&#x27;cross_features&#x27;: [(&#x27;gender_categoryLevel1&#x27;,\n                                                                  [&#x27;gender&#x27;,\n                                                                   &#x27;categoryLevel1&#x27;]),\n                                                                 (&#x27;publisherName_source&#x27;,\n                                                                  [&#x27;publisherName&#x27;,\n                                                                   &#x27;source&#x27;])]})),\n                (&#x27;preprocess...\n                 ColumnTransformer(transformers=[(&#x27;num&#x27;,\n                                                  SimpleImputer(strategy=&#x27;median&#x27;),\n                                                  [&#x27;duration&#x27;, &#x27;action_hour&#x27;,\n                                                   &#x27;action_weekday&#x27;,\n                                                   &#x27;publish_hour&#x27;,\n                                                   &#x27;publish_weekday&#x27;]),\n                                                 (&#x27;cat&#x27;,\n                                                  OneHotEncoder(handle_unknown=&#x27;ignore&#x27;),\n                                                  [&#x27;gender&#x27;, &#x27;categoryLevel1&#x27;,\n                                                   &#x27;categoryLevel2&#x27;,\n                                                   &#x27;publisherName&#x27;, &#x27;source&#x27;,\n                                                   &#x27;collectionID&#x27;,\n                                                   &#x27;gender_categoryLevel1&#x27;,\n                                                   &#x27;publisherName_source&#x27;])])),\n                (&#x27;classifier&#x27;, LGBMClassifier())])</pre><b>In a Jupyter environment, please rerun this cell to show the HTML representation or trust the notebook. <br />On GitHub, the HTML representation is unable to render, please try loading this page with nbviewer.org.</b></div><div class=\"sk-container\" hidden><div class=\"sk-item sk-dashed-wrapped\"><div class=\"sk-label-container\"><div class=\"sk-label sk-toggleable\"><input class=\"sk-toggleable__control sk-hidden--visually\" id=\"sk-estimator-id-1\" type=\"checkbox\" ><label for=\"sk-estimator-id-1\" class=\"sk-toggleable__label sk-toggleable__label-arrow\">Pipeline</label><div class=\"sk-toggleable__content\"><pre>Pipeline(steps=[(&#x27;time_processor&#x27;,\n                 FunctionTransformer(func=&lt;function process_time_features at 0x12c06c790&gt;)),\n                (&#x27;cross_feature_creator&#x27;,\n                 FunctionTransformer(func=&lt;function create_cross_features at 0x10952fbe0&gt;,\n                                     kw_args={&#x27;cross_features&#x27;: [(&#x27;gender_categoryLevel1&#x27;,\n                                                                  [&#x27;gender&#x27;,\n                                                                   &#x27;categoryLevel1&#x27;]),\n                                                                 (&#x27;publisherName_source&#x27;,\n                                                                  [&#x27;publisherName&#x27;,\n                                                                   &#x27;source&#x27;])]})),\n                (&#x27;preprocess...\n                 ColumnTransformer(transformers=[(&#x27;num&#x27;,\n                                                  SimpleImputer(strategy=&#x27;median&#x27;),\n                                                  [&#x27;duration&#x27;, &#x27;action_hour&#x27;,\n                                                   &#x27;action_weekday&#x27;,\n                                                   &#x27;publish_hour&#x27;,\n                                                   &#x27;publish_weekday&#x27;]),\n                                                 (&#x27;cat&#x27;,\n                                                  OneHotEncoder(handle_unknown=&#x27;ignore&#x27;),\n                                                  [&#x27;gender&#x27;, &#x27;categoryLevel1&#x27;,\n                                                   &#x27;categoryLevel2&#x27;,\n                                                   &#x27;publisherName&#x27;, &#x27;source&#x27;,\n                                                   &#x27;collectionID&#x27;,\n                                                   &#x27;gender_categoryLevel1&#x27;,\n                                                   &#x27;publisherName_source&#x27;])])),\n                (&#x27;classifier&#x27;, LGBMClassifier())])</pre></div></div></div><div class=\"sk-serial\"><div class=\"sk-item\"><div class=\"sk-estimator sk-toggleable\"><input class=\"sk-toggleable__control sk-hidden--visually\" id=\"sk-estimator-id-2\" type=\"checkbox\" ><label for=\"sk-estimator-id-2\" class=\"sk-toggleable__label sk-toggleable__label-arrow\">FunctionTransformer</label><div class=\"sk-toggleable__content\"><pre>FunctionTransformer(func=&lt;function process_time_features at 0x12c06c790&gt;)</pre></div></div></div><div class=\"sk-item\"><div class=\"sk-estimator sk-toggleable\"><input class=\"sk-toggleable__control sk-hidden--visually\" id=\"sk-estimator-id-3\" type=\"checkbox\" ><label for=\"sk-estimator-id-3\" class=\"sk-toggleable__label sk-toggleable__label-arrow\">FunctionTransformer</label><div class=\"sk-toggleable__content\"><pre>FunctionTransformer(func=&lt;function create_cross_features at 0x10952fbe0&gt;,\n                    kw_args={&#x27;cross_features&#x27;: [(&#x27;gender_categoryLevel1&#x27;,\n                                                 [&#x27;gender&#x27;, &#x27;categoryLevel1&#x27;]),\n                                                (&#x27;publisherName_source&#x27;,\n                                                 [&#x27;publisherName&#x27;, &#x27;source&#x27;])]})</pre></div></div></div><div class=\"sk-item sk-dashed-wrapped\"><div class=\"sk-label-container\"><div class=\"sk-label sk-toggleable\"><input class=\"sk-toggleable__control sk-hidden--visually\" id=\"sk-estimator-id-4\" type=\"checkbox\" ><label for=\"sk-estimator-id-4\" class=\"sk-toggleable__label sk-toggleable__label-arrow\">preprocessor: ColumnTransformer</label><div class=\"sk-toggleable__content\"><pre>ColumnTransformer(transformers=[(&#x27;num&#x27;, SimpleImputer(strategy=&#x27;median&#x27;),\n                                 [&#x27;duration&#x27;, &#x27;action_hour&#x27;, &#x27;action_weekday&#x27;,\n                                  &#x27;publish_hour&#x27;, &#x27;publish_weekday&#x27;]),\n                                (&#x27;cat&#x27;, OneHotEncoder(handle_unknown=&#x27;ignore&#x27;),\n                                 [&#x27;gender&#x27;, &#x27;categoryLevel1&#x27;, &#x27;categoryLevel2&#x27;,\n                                  &#x27;publisherName&#x27;, &#x27;source&#x27;, &#x27;collectionID&#x27;,\n                                  &#x27;gender_categoryLevel1&#x27;,\n                                  &#x27;publisherName_source&#x27;])])</pre></div></div></div><div class=\"sk-parallel\"><div class=\"sk-parallel-item\"><div class=\"sk-item\"><div class=\"sk-label-container\"><div class=\"sk-label sk-toggleable\"><input class=\"sk-toggleable__control sk-hidden--visually\" id=\"sk-estimator-id-5\" type=\"checkbox\" ><label for=\"sk-estimator-id-5\" class=\"sk-toggleable__label sk-toggleable__label-arrow\">num</label><div class=\"sk-toggleable__content\"><pre>[&#x27;duration&#x27;, &#x27;action_hour&#x27;, &#x27;action_weekday&#x27;, &#x27;publish_hour&#x27;, &#x27;publish_weekday&#x27;]</pre></div></div></div><div class=\"sk-serial\"><div class=\"sk-item\"><div class=\"sk-estimator sk-toggleable\"><input class=\"sk-toggleable__control sk-hidden--visually\" id=\"sk-estimator-id-6\" type=\"checkbox\" ><label for=\"sk-estimator-id-6\" class=\"sk-toggleable__label sk-toggleable__label-arrow\">SimpleImputer</label><div class=\"sk-toggleable__content\"><pre>SimpleImputer(strategy=&#x27;median&#x27;)</pre></div></div></div></div></div></div><div class=\"sk-parallel-item\"><div class=\"sk-item\"><div class=\"sk-label-container\"><div class=\"sk-label sk-toggleable\"><input class=\"sk-toggleable__control sk-hidden--visually\" id=\"sk-estimator-id-7\" type=\"checkbox\" ><label for=\"sk-estimator-id-7\" class=\"sk-toggleable__label sk-toggleable__label-arrow\">cat</label><div class=\"sk-toggleable__content\"><pre>[&#x27;gender&#x27;, &#x27;categoryLevel1&#x27;, &#x27;categoryLevel2&#x27;, &#x27;publisherName&#x27;, &#x27;source&#x27;, &#x27;collectionID&#x27;, &#x27;gender_categoryLevel1&#x27;, &#x27;publisherName_source&#x27;]</pre></div></div></div><div class=\"sk-serial\"><div class=\"sk-item\"><div class=\"sk-estimator sk-toggleable\"><input class=\"sk-toggleable__control sk-hidden--visually\" id=\"sk-estimator-id-8\" type=\"checkbox\" ><label for=\"sk-estimator-id-8\" class=\"sk-toggleable__label sk-toggleable__label-arrow\">OneHotEncoder</label><div class=\"sk-toggleable__content\"><pre>OneHotEncoder(handle_unknown=&#x27;ignore&#x27;)</pre></div></div></div></div></div></div></div></div><div class=\"sk-item\"><div class=\"sk-estimator sk-toggleable\"><input class=\"sk-toggleable__control sk-hidden--visually\" id=\"sk-estimator-id-9\" type=\"checkbox\" ><label for=\"sk-estimator-id-9\" class=\"sk-toggleable__label sk-toggleable__label-arrow\">LGBMClassifier</label><div class=\"sk-toggleable__content\"><pre>LGBMClassifier()</pre></div></div></div></div></div></div></div>"
     },
     "execution_count": 4,
     "metadata": {},
     "output_type": "execute_result"
    }
   ],
   "source": [
    "# 训练模型\n",
    "pipeline.fit(X_train, y_train)"
   ],
   "metadata": {
    "collapsed": false,
    "ExecuteTime": {
     "end_time": "2024-09-14T09:21:26.560040Z",
     "start_time": "2024-09-14T09:21:25.461719Z"
    }
   },
   "id": "658f3d04496283a4"
  },
  {
   "cell_type": "code",
   "execution_count": 5,
   "outputs": [
    {
     "name": "stdout",
     "output_type": "stream",
     "text": [
      "                                           traceId  sceneId              eid  \\\n",
      "63890    9541b5df-1fca-4f54-8c67-99a8482e98df-6069       14  584070995160197   \n",
      "21954    f1f196bb-d09a-4f16-bd74-ee6edc8803bd-6067       14  582985158147077   \n",
      "125032  1cdd73ae-0736-429b-afef-c3e088851831-39993       14  583395540822981   \n",
      "82290    ee1f793d-4262-496a-8207-ccb94c4d9f97-9083       14  583135584328645   \n",
      "117830  2d8985ac-de43-4970-a3ca-2fd090f9b0f9-10399       14  583440698181765   \n",
      "...                                            ...      ...              ...   \n",
      "64522    43c466b9-0873-4ba8-b765-e9c98138521f-6069       14  583317000297605   \n",
      "157721   e57ed265-ffba-44eb-94e9-740c7f6a1d1b-9083       14  583310296300485   \n",
      "79811    9002fd85-2f57-42d2-b98b-189f651f95da-9083       14  583189433510853   \n",
      "94708    fea1b64b-8778-4d8f-8064-b5c22ab5ad8a-6072       14  584096422529989   \n",
      "11461    c9628259-5d45-45c3-a0f6-4fe2b731c213-6069       14  583407209257925   \n",
      "\n",
      "        itemId                    actionTime  age gender categoryLevel1  \\\n",
      "63890     6069 1970-01-01 00:28:44.746788663  NaN    NaN             运动   \n",
      "21954     6067 1970-01-01 00:28:44.525612669  NaN    NaN             美食   \n",
      "125032   39993 1970-01-01 00:28:44.567420316  NaN    NaN             美食   \n",
      "82290     9083 1970-01-01 00:28:44.505288314  0.0      男             动物   \n",
      "117830   10399 1970-01-01 00:28:44.590151626  0.0      女             运动   \n",
      "...        ...                           ...  ...    ...            ...   \n",
      "64522     6069 1970-01-01 00:28:44.574344248  NaN    NaN             运动   \n",
      "157721    9083 1970-01-01 00:28:44.547472948  NaN    NaN             动物   \n",
      "79811     9083 1970-01-01 00:28:44.516639938  NaN    NaN             动物   \n",
      "94708     6072 1970-01-01 00:28:44.738646883  NaN    NaN             生活   \n",
      "11461     6069 1970-01-01 00:28:44.683157269  0.0      女             运动   \n",
      "\n",
      "       categoryLevel2  duration publisherName                   publishTime  \\\n",
      "63890              户外      41.0          雪域飞狐 1970-01-01 00:28:43.211422467   \n",
      "21954             NaN     187.0          梦幻作家 1970-01-01 00:28:43.211412352   \n",
      "125032            NaN      41.0          仙人指路 1970-01-01 00:28:43.468958817   \n",
      "82290             NaN   20225.0         街头艺术家 1970-01-01 00:28:43.237372799   \n",
      "117830             户外      74.0          风雨交加 1970-01-01 00:28:43.246468250   \n",
      "...               ...       ...           ...                           ...   \n",
      "64522              户外      41.0          雪域飞狐 1970-01-01 00:28:43.211422467   \n",
      "157721            NaN   20225.0         街头艺术家 1970-01-01 00:28:43.237372799   \n",
      "79811             NaN   20225.0         街头艺术家 1970-01-01 00:28:43.237372799   \n",
      "94708              生活      72.0          机械之心 1970-01-01 00:28:43.211443570   \n",
      "11461              户外      41.0          雪域飞狐 1970-01-01 00:28:43.211422467   \n",
      "\n",
      "       source  collectionID  action_hour  action_weekday  publish_hour  \\\n",
      "63890    渠道-1           NaN            0               3             0   \n",
      "21954    渠道-1           NaN            0               3             0   \n",
      "125032   渠道-1           NaN            0               3             0   \n",
      "82290    渠道-1           NaN            0               3             0   \n",
      "117830   渠道-1           NaN            0               3             0   \n",
      "...       ...           ...          ...             ...           ...   \n",
      "64522    渠道-1           NaN            0               3             0   \n",
      "157721   渠道-1           NaN            0               3             0   \n",
      "79811    渠道-1           NaN            0               3             0   \n",
      "94708    渠道-1           NaN            0               3             0   \n",
      "11461    渠道-1           NaN            0               3             0   \n",
      "\n",
      "        publish_weekday  \n",
      "63890                 3  \n",
      "21954                 3  \n",
      "125032                3  \n",
      "82290                 3  \n",
      "117830                3  \n",
      "...                 ...  \n",
      "64522                 3  \n",
      "157721                3  \n",
      "79811                 3  \n",
      "94708                 3  \n",
      "11461                 3  \n",
      "\n",
      "[34000 rows x 18 columns]\n",
      "[0 0 0 ... 0 0 0]\n",
      "[0.04175248 0.03593833 0.03726706 ... 0.02319144 0.13057732 0.14798166]\n",
      "              precision    recall  f1-score   support\n",
      "\n",
      "           0       0.93      1.00      0.97     31753\n",
      "           1       0.62      0.00      0.01      2247\n",
      "\n",
      "    accuracy                           0.93     34000\n",
      "   macro avg       0.77      0.50      0.49     34000\n",
      "weighted avg       0.91      0.93      0.90     34000\n",
      "\n",
      "ROC AUC score: 0.6866100390964185\n"
     ]
    }
   ],
   "source": [
    "# 预测测试集\n",
    "y_pred = pipeline.predict(X_test)\n",
    "y_pred_proba = pipeline.predict_proba(X_test)[:, 1]\n",
    "\n",
    "print(X_test)\n",
    "print(y_pred)\n",
    "print(y_pred_proba)\n",
    "\n",
    "# 评估模型\n",
    "print(classification_report(y_test, y_pred))\n",
    "print(\"ROC AUC score:\", roc_auc_score(y_test, y_pred_proba))"
   ],
   "metadata": {
    "collapsed": false,
    "ExecuteTime": {
     "end_time": "2024-09-14T09:21:27.885491Z",
     "start_time": "2024-09-14T09:21:27.168787Z"
    }
   },
   "id": "cebae3c0379dc782"
  },
  {
   "cell_type": "code",
   "execution_count": 6,
   "outputs": [
    {
     "data": {
      "text/plain": "['model.pkl']"
     },
     "execution_count": 6,
     "metadata": {},
     "output_type": "execute_result"
    }
   ],
   "source": [
    "import joblib\n",
    "\n",
    "# 保存模型\n",
    "joblib.dump(pipeline, 'model.pkl')"
   ],
   "metadata": {
    "collapsed": false,
    "ExecuteTime": {
     "end_time": "2024-09-14T09:21:28.596828Z",
     "start_time": "2024-09-14T09:21:28.569651Z"
    }
   },
   "id": "c80f3998b0ca860c"
  },
  {
   "cell_type": "code",
   "execution_count": 9,
   "outputs": [
    {
     "name": "stdout",
     "output_type": "stream",
     "text": [
      "[\n",
      "    {\n",
      "        \"itemId\": \"7928\",\n",
      "        \"age\": 25,\n",
      "        \"gender\": \"女\",\n",
      "        \"actionTime\": 1723776282810,\n",
      "        \"categoryLevel1\": \"动物\",\n",
      "        \"categoryLevel2\": \"\",\n",
      "        \"duration\": 1200,\n",
      "        \"publisherName\": \"MovieCentral\",\n",
      "        \"publishTime\": 1723776282810,\n",
      "        \"source\": \"Web\",\n",
      "        \"collectionID\": \"\"\n",
      "    },\n",
      "    {\n",
      "        \"itemId\": \"7928\",\n",
      "        \"age\": 25,\n",
      "        \"gender\": \"女\",\n",
      "        \"actionTime\": 1723776282810,\n",
      "        \"categoryLevel1\": \"动物\",\n",
      "        \"categoryLevel2\": \"\",\n",
      "        \"duration\": 1200,\n",
      "        \"publisherName\": \"MovieCentral\",\n",
      "        \"publishTime\": 1723776282810,\n",
      "        \"source\": \"Web\",\n",
      "        \"collectionID\": \"\"\n",
      "    }\n",
      "]\n",
      "[0 0]\n",
      "[0.10539439 0.10539439]\n"
     ]
    }
   ],
   "source": [
    "# 加载模型\n",
    "from joblib import load\n",
    "\n",
    "pipeline = load('model.pkl')\n",
    "\n",
    "data = [\n",
    "    {\n",
    "        'itemId': '7928',\n",
    "        'age': 25,\n",
    "        'gender': '女',\n",
    "        'actionTime': 1723776282810,\n",
    "        'categoryLevel1': '动物',\n",
    "        'categoryLevel2': '',\n",
    "        'duration': 1200,\n",
    "        'publisherName': 'MovieCentral',\n",
    "        'publishTime': 1723776282810,\n",
    "        'source': 'Web',\n",
    "        'collectionID': ''\n",
    "    },\n",
    "    {\n",
    "        'itemId': '7928',\n",
    "        'age': 25,\n",
    "        'gender': '女',\n",
    "        'actionTime': 1723776282810,\n",
    "        'categoryLevel1': '动物',\n",
    "        'categoryLevel2': '',\n",
    "        'duration': 1200,\n",
    "        'publisherName': 'MovieCentral',\n",
    "        'publishTime': 1723776282810,\n",
    "        'source': 'Web',\n",
    "        'collectionID': ''\n",
    "    }\n",
    "]\n",
    "import json\n",
    "print(json.dumps(data,ensure_ascii=False,indent=4))\n",
    "df = pd.DataFrame(data)\n",
    "prediction = pipeline.predict(df)\n",
    "prediction_prob = pipeline.predict_proba(df)[:, 1]\n",
    "print(prediction)\n",
    "print(prediction_prob)"
   ],
   "metadata": {
    "collapsed": false,
    "ExecuteTime": {
     "end_time": "2024-09-14T09:24:30.329054Z",
     "start_time": "2024-09-14T09:24:30.279961Z"
    }
   },
   "id": "46588686de86373c"
  },
  {
   "cell_type": "code",
   "outputs": [],
   "source": [],
   "metadata": {
    "collapsed": false,
    "ExecuteTime": {
     "end_time": "2024-09-13T15:21:56.856682Z",
     "start_time": "2024-09-13T15:21:56.854739Z"
    }
   },
   "id": "bd30206ed4825161",
   "execution_count": 14
  },
  {
   "cell_type": "code",
   "outputs": [],
   "source": [],
   "metadata": {
    "collapsed": false
   },
   "id": "f1ccec25f4905270"
  }
 ],
 "metadata": {
  "kernelspec": {
   "display_name": "Python 3",
   "language": "python",
   "name": "python3"
  },
  "language_info": {
   "codemirror_mode": {
    "name": "ipython",
    "version": 2
   },
   "file_extension": ".py",
   "mimetype": "text/x-python",
   "name": "python",
   "nbconvert_exporter": "python",
   "pygments_lexer": "ipython2",
   "version": "2.7.6"
  }
 },
 "nbformat": 4,
 "nbformat_minor": 5
}
