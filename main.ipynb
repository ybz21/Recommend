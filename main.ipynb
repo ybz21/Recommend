{
 "cells": [
  {
   "cell_type": "code",
   "execution_count": 2,
   "id": "initial_id",
   "metadata": {
    "collapsed": true,
    "ExecuteTime": {
     "end_time": "2024-09-06T17:41:08.560695Z",
     "start_time": "2024-09-06T17:41:08.277904Z"
    }
   },
   "outputs": [
    {
     "name": "stdout",
     "output_type": "stream",
     "text": [
      "====desc_stats======\n",
      "        sceneId           eid         itemId    actionTime   actionValue  \\\n",
      "count  169999.0  1.699990e+05  169999.000000  1.699990e+05  1.699990e+05   \n",
      "mean       14.0  5.829129e+14    8162.892105  1.724540e+12  1.520960e+05   \n",
      "std         0.0  1.863481e+12    7423.859191  2.346278e+08  1.618823e+07   \n",
      "min        14.0  5.745071e+14     771.000000  1.723416e+12  0.000000e+00   \n",
      "25%        14.0  5.830250e+14    6068.000000  1.724501e+12  1.000000e+00   \n",
      "50%        14.0  5.833673e+14    6093.000000  1.724586e+12  1.000000e+00   \n",
      "75%        14.0  5.837015e+14    9083.000000  1.724666e+12  3.000000e+00   \n",
      "max        14.0  5.841415e+14   53971.000000  1.724749e+12  1.723454e+09   \n",
      "\n",
      "           age       duration   publishTime  collectionID  \n",
      "count  34327.0  166126.000000  1.699990e+05   10337.00000  \n",
      "mean       0.0   17479.034576  1.723199e+12    3046.67805  \n",
      "std        0.0   39962.270050  1.080573e+08     222.19271  \n",
      "min        0.0       0.000000  1.722580e+12     767.00000  \n",
      "25%        0.0      41.000000  1.723211e+12    3042.00000  \n",
      "50%        0.0     144.000000  1.723212e+12    3042.00000  \n",
      "75%        0.0   20225.000000  1.723237e+12    3042.00000  \n",
      "max        0.0  313585.000000  1.723563e+12    3902.00000  \n",
      "====desc_stats_all======\n",
      "                                           traceId   sceneId           eid  \\\n",
      "count                                       169999  169999.0  1.699990e+05   \n",
      "unique                                      119648       NaN           NaN   \n",
      "top     c47c800f-f9e0-4fb9-b994-b50dcc089fac-10399       NaN           NaN   \n",
      "freq                                          2045       NaN           NaN   \n",
      "mean                                           NaN      14.0  5.829129e+14   \n",
      "std                                            NaN       0.0  1.863481e+12   \n",
      "min                                            NaN      14.0  5.745071e+14   \n",
      "25%                                            NaN      14.0  5.830250e+14   \n",
      "50%                                            NaN      14.0  5.833673e+14   \n",
      "75%                                            NaN      14.0  5.837015e+14   \n",
      "max                                            NaN      14.0  5.841415e+14   \n",
      "\n",
      "               itemId    actionTime   actionValue      age gender  \\\n",
      "count   169999.000000  1.699990e+05  1.699990e+05  34327.0  34327   \n",
      "unique            NaN           NaN           NaN      NaN      2   \n",
      "top               NaN           NaN           NaN      NaN      男   \n",
      "freq              NaN           NaN           NaN      NaN  19617   \n",
      "mean      8162.892105  1.724540e+12  1.520960e+05      0.0    NaN   \n",
      "std       7423.859191  2.346278e+08  1.618823e+07      0.0    NaN   \n",
      "min        771.000000  1.723416e+12  0.000000e+00      0.0    NaN   \n",
      "25%       6068.000000  1.724501e+12  1.000000e+00      0.0    NaN   \n",
      "50%       6093.000000  1.724586e+12  1.000000e+00      0.0    NaN   \n",
      "75%       9083.000000  1.724666e+12  3.000000e+00      0.0    NaN   \n",
      "max      53971.000000  1.724749e+12  1.723454e+09      0.0    NaN   \n",
      "\n",
      "       categoryLevel1 categoryLevel2       duration publisherName  \\\n",
      "count          169999          89075  166126.000000        169999   \n",
      "unique             15             17            NaN           720   \n",
      "top                运动             户外            NaN          雪域飞狐   \n",
      "freq            44482          44402            NaN         30708   \n",
      "mean              NaN            NaN   17479.034576           NaN   \n",
      "std               NaN            NaN   39962.270050           NaN   \n",
      "min               NaN            NaN       0.000000           NaN   \n",
      "25%               NaN            NaN      41.000000           NaN   \n",
      "50%               NaN            NaN     144.000000           NaN   \n",
      "75%               NaN            NaN   20225.000000           NaN   \n",
      "max               NaN            NaN  313585.000000           NaN   \n",
      "\n",
      "         publishTime  source  collectionID  \n",
      "count   1.699990e+05  158795   10337.00000  \n",
      "unique           NaN       2           NaN  \n",
      "top              NaN    渠道-1           NaN  \n",
      "freq             NaN  144561           NaN  \n",
      "mean    1.723199e+12     NaN    3046.67805  \n",
      "std     1.080573e+08     NaN     222.19271  \n",
      "min     1.722580e+12     NaN     767.00000  \n",
      "25%     1.723211e+12     NaN    3042.00000  \n",
      "50%     1.723212e+12     NaN    3042.00000  \n",
      "75%     1.723237e+12     NaN    3042.00000  \n",
      "max     1.723563e+12     NaN    3902.00000  \n"
     ]
    }
   ],
   "source": [
    "import pandas as pd\n",
    "\n",
    "data = pd.read_csv('./data/w_0812_0827.train.csv')\n",
    "\n",
    "# 查看每列的描述性统计信息\n",
    "desc_stats = data.describe()\n",
    "# 打印描述性统计信息\n",
    "print(f'====desc_stats======')\n",
    "print(desc_stats)\n",
    "\n",
    "# 如果你想要查看包含非数字列的更全面的描述性统计信息\n",
    "desc_stats_all = data.describe(include='all')\n",
    "print(f'====desc_stats_all======')\n",
    "print(desc_stats_all)\n",
    "\n",
    "# 单独查看某一列的统计信息\n",
    "# column_stats = data['column_name'].describe()\n",
    "# print(column_stats)\n",
    "\n",
    "# 查看唯一值和出现次数\n",
    "# unique_values = data['column_name'].value_counts()\n",
    "# print(unique_values)"
   ]
  },
  {
   "cell_type": "code",
   "outputs": [],
   "source": [],
   "metadata": {
    "collapsed": false,
    "ExecuteTime": {
     "end_time": "2024-09-06T17:41:26.765169Z",
     "start_time": "2024-09-06T17:41:26.762171Z"
    }
   },
   "id": "ec59333ac92c9e93",
   "execution_count": 2
  },
  {
   "cell_type": "code",
   "outputs": [],
   "source": [],
   "metadata": {
    "collapsed": false,
    "ExecuteTime": {
     "end_time": "2024-09-06T17:39:47.748381Z",
     "start_time": "2024-09-06T17:39:47.746832Z"
    }
   },
   "id": "9ba79f98ba8641e8",
   "execution_count": 0
  },
  {
   "cell_type": "code",
   "outputs": [],
   "source": [],
   "metadata": {
    "collapsed": false
   },
   "id": "a05e1e93999782fd"
  }
 ],
 "metadata": {
  "kernelspec": {
   "display_name": "Python 3",
   "language": "python",
   "name": "python3"
  },
  "language_info": {
   "codemirror_mode": {
    "name": "ipython",
    "version": 2
   },
   "file_extension": ".py",
   "mimetype": "text/x-python",
   "name": "python",
   "nbconvert_exporter": "python",
   "pygments_lexer": "ipython2",
   "version": "2.7.6"
  }
 },
 "nbformat": 4,
 "nbformat_minor": 5
}
