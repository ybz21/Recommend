{
 "cells": [
  {
   "cell_type": "code",
   "execution_count": null,
   "id": "initial_id",
   "metadata": {
    "collapsed": true,
    "is_executing": true
   },
   "outputs": [],
   "source": [
    "import pandas as pd\n",
    "from sklearn.model_selection import train_test_split\n",
    "from sklearn.impute import SimpleImputer\n",
    "from sklearn.preprocessing import StandardScaler, OneHotEncoder\n",
    "from sklearn.compose import ColumnTransformer\n",
    "from sklearn.pipeline import Pipeline\n",
    "from sklearn.linear_model import LogisticRegression\n",
    "from sklearn.metrics import classification_report, roc_auc_score\n",
    "\n",
    "# 假设df是你的DataFrame\n",
    "# 首先，导入数据\n",
    "df = pd.read_csv('./data/w_0812_0827.train.csv')  # 如果数据在CSV文件中\n",
    "\n",
    "# 检查缺失值\n",
    "print(df.isnull().sum())\n",
    "\n",
    "# 处理缺失值，这里以填充中位数为例\n",
    "imputer = SimpleImputer(strategy='median')\n",
    "df['age'] = imputer.fit_transform(df[['age']])\n",
    "\n",
    "# 将观看时长转换为二进制变量\n",
    "df['duration_gt_10'] = (df['duration'] > 10).astype(int)\n",
    "\n",
    "# 定义数值和类别特征\n",
    "numeric_features = ['age', 'duration']\n",
    "categorical_features = ['gender', 'categoryLevel1', 'categoryLevel2', 'publisherName', 'source']\n",
    "\n",
    "# 创建数值特征的预处理器\n",
    "numeric_transformer = Pipeline(steps=[\n",
    "    ('imputer', SimpleImputer(strategy='median')),\n",
    "    ('scaler', StandardScaler())\n",
    "])\n",
    "\n",
    "# 创建类别特征的预处理器\n",
    "categorical_transformer = Pipeline(steps=[\n",
    "    ('imputer', SimpleImputer(strategy='most_frequent')),\n",
    "    ('onehot', OneHotEncoder(handle_unknown='ignore'))\n",
    "])\n",
    "\n",
    "# 组合预处理器\n",
    "preprocessor = ColumnTransformer(\n",
    "    transformers=[\n",
    "        ('num', numeric_transformer, numeric_features),\n",
    "        ('cat', categorical_transformer, categorical_features)\n",
    "    ])\n",
    "\n",
    "# 创建模型管道\n",
    "pipeline = Pipeline(steps=[\n",
    "    ('preprocessor', preprocessor),\n",
    "    ('classifier', LogisticRegression(solver='liblinear'))\n",
    "])\n",
    "\n",
    "# 准备训练和测试数据\n",
    "X = df.drop(['duration', 'duration_gt_10'], axis=1)\n",
    "y = df['duration_gt_10']\n",
    "X_train, X_test, y_train, y_test = train_test_split(X, y, test_size=0.2, random_state=42)\n",
    "\n",
    "# 训练模型\n",
    "pipeline.fit(X_train, y_train)\n",
    "\n",
    "# 预测测试集\n",
    "y_pred = pipeline.predict(X_test)\n",
    "y_pred_proba = pipeline.predict_proba(X_test)[:, 1]\n",
    "\n",
    "# 评估模型\n",
    "print(classification_report(y_test, y_pred))\n",
    "print(\"ROC AUC score:\", roc_auc_score(y_test, y_pred_proba))"
   ]
  },
  {
   "cell_type": "code",
   "outputs": [],
   "source": [],
   "metadata": {
    "collapsed": false,
    "ExecuteTime": {
     "end_time": "2024-09-06T17:41:26.765169Z",
     "start_time": "2024-09-06T17:41:26.762171Z"
    }
   },
   "id": "ec59333ac92c9e93",
   "execution_count": 2
  },
  {
   "cell_type": "code",
   "outputs": [],
   "source": [],
   "metadata": {
    "collapsed": false,
    "ExecuteTime": {
     "end_time": "2024-09-06T17:39:47.748381Z",
     "start_time": "2024-09-06T17:39:47.746832Z"
    }
   },
   "id": "9ba79f98ba8641e8",
   "execution_count": 0
  },
  {
   "cell_type": "code",
   "outputs": [],
   "source": [],
   "metadata": {
    "collapsed": false
   },
   "id": "a05e1e93999782fd"
  }
 ],
 "metadata": {
  "kernelspec": {
   "display_name": "Python 3",
   "language": "python",
   "name": "python3"
  },
  "language_info": {
   "codemirror_mode": {
    "name": "ipython",
    "version": 2
   },
   "file_extension": ".py",
   "mimetype": "text/x-python",
   "name": "python",
   "nbconvert_exporter": "python",
   "pygments_lexer": "ipython2",
   "version": "2.7.6"
  }
 },
 "nbformat": 4,
 "nbformat_minor": 5
}
